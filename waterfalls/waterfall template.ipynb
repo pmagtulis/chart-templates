{
 "cells": [
  {
   "cell_type": "markdown",
   "id": "45badd1e",
   "metadata": {},
   "source": [
    "## Waterfall graphic template"
   ]
  },
  {
   "cell_type": "code",
   "execution_count": 4,
   "id": "42d12853",
   "metadata": {},
   "outputs": [
    {
     "name": "stderr",
     "output_type": "stream",
     "text": [
      "/var/folders/00/cqb74mkn60g_hf2zk42fy8_m0000gp/T/ipykernel_24906/1869737306.py:16: FutureWarning: Dropping of nuisance columns in DataFrame reductions (with 'numeric_only=None') is deprecated; in a future version this will raise TypeError.  Select only valid columns before calling the reduction.\n"
     ]
    }
   ],
   "source": [
    "import pandas as pd\n",
    "from IPython.display import display\n",
    "import numpy as np\n",
    "from matplotlib.ticker import FuncFormatter\n",
    "import matplotlib.pyplot as plt\n",
    "from plotnine import *\n",
    "\n",
    "df= pd.read_excel('waterfall.xlsx', sheet_name='Sheet4')\n",
    "\n",
    "#not necessary if columns are correct\n",
    "df.columns = df.iloc[0]\n",
    "df = df.drop([df.index[0]])\n",
    "\n",
    "blank=df.amount.cumsum().shift(1).fillna(0)\n",
    "\n",
    "total = df.sum().amount\n",
    "df.loc[\"net\"] = total\n",
    "blank.loc[\"net\"] = total\n",
    "\n",
    "step = blank.reset_index(drop=True).repeat(3).shift(-1)\n",
    "step[1::3] = np.nan\n",
    "\n",
    "blank.loc[\"net\"] = 0"
   ]
  },
  {
   "cell_type": "code",
   "execution_count": 7,
   "id": "e31825b6",
   "metadata": {},
   "outputs": [
    {
     "data": {
      "image/png": "[encoded data removed]",
      "text/plain": [
       "<Figure size 1000x600 with 1 Axes>"
      ]
     },
     "metadata": {},
     "output_type": "display_data"
    }
   ],
   "source": [
    "my_plot = df.plot(kind='bar', stacked=True, bottom=blank,legend=None, title=\"SDR\", figsize=(10,6))\n",
    "my_plot.plot(step.index, step.values,'k')\n",
    "my_plot.get_figure().savefig(\"waterfall.svg\",format='svg',dpi=200,bbox_inches='tight')"
   ]
  },
  {
   "cell_type": "code",
   "execution_count": null,
   "id": "92d6de10",
   "metadata": {},
   "outputs": [],
   "source": [
    "# #Use python 2.7+ syntax to format currency\n",
    "# def money(x, pos):\n",
    "#     'The two args are the value and tick position'\n",
    "#     return \"${:,.0f}\".format(x)\n",
    "# formatter = FuncFormatter(money)\n",
    "\n",
    "# #Data to plot. Do not include a total, it will be calculated\n",
    "# index = ['sales','returns','credit fees','rebates','late charges','shipping']\n",
    "# data = {'amount': [350000,-30000,-7500,-25000,95000,-7000]}\n",
    "\n",
    "# #Store data and create a blank series to use for the waterfall\n",
    "# trans = pd.DataFrame(data=data,index=index)\n",
    "# blank = trans.amount.cumsum().shift(1).fillna(0)\n",
    "\n",
    "# #Get the net total number for the final element in the waterfall\n",
    "# total = trans.sum().amount\n",
    "# trans.loc[\"net\"]= total\n",
    "# blank.loc[\"net\"] = total\n",
    "\n",
    "# #The steps graphically show the levels as well as used for label placement\n",
    "# step = blank.reset_index(drop=True).repeat(3).shift(-1)\n",
    "# step[1::3] = np.nan\n",
    "\n",
    "# #When plotting the last element, we want to show the full bar,\n",
    "# #Set the blank to 0\n",
    "# blank.loc[\"net\"] = 0\n",
    "\n",
    "# #Plot and label\n",
    "# my_plot = trans.plot(kind='bar', stacked=True, bottom=blank,legend=None, figsize=(10, 5), title=\"2014 Sales Waterfall\")\n",
    "# my_plot.plot(step.index, step.values,'k')\n",
    "# my_plot.set_xlabel(\"Transaction Types\")\n",
    "\n",
    "# #Format the axis for dollars\n",
    "# my_plot.yaxis.set_major_formatter(formatter)\n",
    "\n",
    "# #Get the y-axis position for the labels\n",
    "# y_height = trans.amount.cumsum().shift(1).fillna(0)\n",
    "\n",
    "# #Get an offset so labels don't sit right on top of the bar\n",
    "# max = trans.max()\n",
    "# neg_offset = max / 25\n",
    "# pos_offset = max / 50\n",
    "# plot_offset = int(max / 15)\n",
    "\n",
    "# #Start label loop\n",
    "# loop = 0\n",
    "# for index, row in trans.iterrows():\n",
    "#     # For the last item in the list, we don't want to double count\n",
    "#     if row['amount'] == total:\n",
    "#         y = y_height[loop]\n",
    "#     else:\n",
    "#         y = y_height[loop] + row['amount']\n",
    "#     # Determine if we want a neg or pos offset\n",
    "#     if row['amount'] > 0:\n",
    "#         y += pos_offset\n",
    "#     else:\n",
    "#         y -= neg_offset\n",
    "#     my_plot.annotate(\"{:,.0f}\".format(row['amount']),(loop,y),ha=\"center\")\n",
    "#     loop+=1\n",
    "\n",
    "# #Scale up the y axis so there is room for the labels\n",
    "# my_plot.set_ylim(0,blank.max()+int(plot_offset))\n",
    "# #Rotate the labels\n",
    "# my_plot.set_xticklabels(trans.index,rotation=0)\n",
    "# my_plot.get_figure().savefig(\"waterfall.svg\",dpi=200,bbox_inches='tight')"
   ]
  },
  {
   "cell_type": "code",
   "execution_count": null,
   "id": "ade2590c",
   "metadata": {},
   "outputs": [],
   "source": []
  }
 ],
 "metadata": {
  "kernelspec": {
   "display_name": "Python 3 (ipykernel)",
   "language": "python",
   "name": "python3"
  },
  "language_info": {
   "codemirror_mode": {
    "name": "ipython",
    "version": 3
   },
   "file_extension": ".py",
   "mimetype": "text/x-python",
   "name": "python",
   "nbconvert_exporter": "python",
   "pygments_lexer": "ipython3",
   "version": "3.10.8"
  }
 },
 "nbformat": 4,
 "nbformat_minor": 5
}
