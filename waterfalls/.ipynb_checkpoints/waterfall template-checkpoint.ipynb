{
 "cells": [
  {
   "cell_type": "markdown",
   "id": "45badd1e",
   "metadata": {},
   "source": [
    "## Waterfall graphic template\n",
    "\n",
    "Stolen from this [page](https://pbpython.com/waterfall-chart.html)."
   ]
  },
  {
   "cell_type": "markdown",
   "id": "3fb0384a",
   "metadata": {},
   "source": [
    "## Do your imports"
   ]
  },
  {
   "cell_type": "code",
   "execution_count": 1,
   "id": "42d12853",
   "metadata": {},
   "outputs": [],
   "source": [
    "import pandas as pd\n",
    "from IPython.display import display\n",
    "import numpy as np\n",
    "from matplotlib.ticker import FuncFormatter\n",
    "import matplotlib.pyplot as plt"
   ]
  },
  {
   "cell_type": "markdown",
   "id": "f7557b2f",
   "metadata": {},
   "source": [
    "## Read file"
   ]
  },
  {
   "cell_type": "code",
   "execution_count": 2,
   "id": "f0c4094d",
   "metadata": {},
   "outputs": [
    {
     "data": {
      "text/html": [
       "<div>\n",
       "<style scoped>\n",
       "    .dataframe tbody tr th:only-of-type {\n",
       "        vertical-align: middle;\n",
       "    }\n",
       "\n",
       "    .dataframe tbody tr th {\n",
       "        vertical-align: top;\n",
       "    }\n",
       "\n",
       "    .dataframe thead th {\n",
       "        text-align: right;\n",
       "    }\n",
       "</style>\n",
       "<table border=\"1\" class=\"dataframe\">\n",
       "  <thead>\n",
       "    <tr style=\"text-align: right;\">\n",
       "      <th></th>\n",
       "      <th>Unnamed: 0</th>\n",
       "      <th>Unnamed: 1</th>\n",
       "    </tr>\n",
       "  </thead>\n",
       "  <tbody>\n",
       "    <tr>\n",
       "      <th>0</th>\n",
       "      <td>date</td>\n",
       "      <td>amount</td>\n",
       "    </tr>\n",
       "    <tr>\n",
       "      <th>1</th>\n",
       "      <td>2021-12-01 00:00:00</td>\n",
       "      <td>593682</td>\n",
       "    </tr>\n",
       "    <tr>\n",
       "      <th>2</th>\n",
       "      <td>2022-01-01 00:00:00</td>\n",
       "      <td>-4770</td>\n",
       "    </tr>\n",
       "    <tr>\n",
       "      <th>3</th>\n",
       "      <td>2022-02-01 00:00:00</td>\n",
       "      <td>-8892</td>\n",
       "    </tr>\n",
       "    <tr>\n",
       "      <th>4</th>\n",
       "      <td>2022-03-01 00:00:00</td>\n",
       "      <td>-11698</td>\n",
       "    </tr>\n",
       "  </tbody>\n",
       "</table>\n",
       "</div>"
      ],
      "text/plain": [
       "            Unnamed: 0 Unnamed: 1\n",
       "0                 date     amount\n",
       "1  2021-12-01 00:00:00     593682\n",
       "2  2022-01-01 00:00:00      -4770\n",
       "3  2022-02-01 00:00:00      -8892\n",
       "4  2022-03-01 00:00:00     -11698"
      ]
     },
     "execution_count": 2,
     "metadata": {},
     "output_type": "execute_result"
    }
   ],
   "source": [
    "df= pd.read_excel('waterfall.xlsx', sheet_name='for read')\n",
    "df.head()"
   ]
  },
  {
   "cell_type": "markdown",
   "id": "70e29a20",
   "metadata": {},
   "source": [
    "## Clean file"
   ]
  },
  {
   "cell_type": "code",
   "execution_count": 3,
   "id": "e937526a",
   "metadata": {},
   "outputs": [
    {
     "data": {
      "text/html": [
       "<div>\n",
       "<style scoped>\n",
       "    .dataframe tbody tr th:only-of-type {\n",
       "        vertical-align: middle;\n",
       "    }\n",
       "\n",
       "    .dataframe tbody tr th {\n",
       "        vertical-align: top;\n",
       "    }\n",
       "\n",
       "    .dataframe thead th {\n",
       "        text-align: right;\n",
       "    }\n",
       "</style>\n",
       "<table border=\"1\" class=\"dataframe\">\n",
       "  <thead>\n",
       "    <tr style=\"text-align: right;\">\n",
       "      <th></th>\n",
       "      <th>date</th>\n",
       "      <th>amount</th>\n",
       "    </tr>\n",
       "  </thead>\n",
       "  <tbody>\n",
       "    <tr>\n",
       "      <th>1</th>\n",
       "      <td>2021-12-01 00:00:00</td>\n",
       "      <td>593682</td>\n",
       "    </tr>\n",
       "    <tr>\n",
       "      <th>2</th>\n",
       "      <td>2022-01-01 00:00:00</td>\n",
       "      <td>-4770</td>\n",
       "    </tr>\n",
       "    <tr>\n",
       "      <th>3</th>\n",
       "      <td>2022-02-01 00:00:00</td>\n",
       "      <td>-8892</td>\n",
       "    </tr>\n",
       "    <tr>\n",
       "      <th>4</th>\n",
       "      <td>2022-03-01 00:00:00</td>\n",
       "      <td>-11698</td>\n",
       "    </tr>\n",
       "    <tr>\n",
       "      <th>5</th>\n",
       "      <td>2022-04-01 00:00:00</td>\n",
       "      <td>-18337</td>\n",
       "    </tr>\n",
       "  </tbody>\n",
       "</table>\n",
       "</div>"
      ],
      "text/plain": [
       "0                 date  amount\n",
       "1  2021-12-01 00:00:00  593682\n",
       "2  2022-01-01 00:00:00   -4770\n",
       "3  2022-02-01 00:00:00   -8892\n",
       "4  2022-03-01 00:00:00  -11698\n",
       "5  2022-04-01 00:00:00  -18337"
      ]
     },
     "execution_count": 3,
     "metadata": {},
     "output_type": "execute_result"
    }
   ],
   "source": [
    "#not necessary if columns are correct\n",
    "df.columns = df.iloc[0]\n",
    "df = df.drop([df.index[0]])\n",
    "df.head()"
   ]
  },
  {
   "cell_type": "markdown",
   "id": "ce861771",
   "metadata": {},
   "source": [
    "## Using numpy\n",
    "\n",
    "This is still part of the cleaning process where you create new rows to create the waterfall image when plotting."
   ]
  },
  {
   "cell_type": "code",
   "execution_count": 4,
   "id": "94e8c4e6",
   "metadata": {},
   "outputs": [
    {
     "name": "stderr",
     "output_type": "stream",
     "text": [
      "/var/folders/00/cqb74mkn60g_hf2zk42fy8_m0000gp/T/ipykernel_27414/1286513561.py:3: FutureWarning: Dropping of nuisance columns in DataFrame reductions (with 'numeric_only=None') is deprecated; in a future version this will raise TypeError.  Select only valid columns before calling the reduction.\n",
      "  total = df.sum().amount\n"
     ]
    },
    {
     "data": {
      "text/plain": [
       "1           0\n",
       "2      593682\n",
       "3      588912\n",
       "4      580020\n",
       "5      568322\n",
       "6      549985\n",
       "7      526592\n",
       "8      497868\n",
       "9      469855\n",
       "10     449998\n",
       "11     416389\n",
       "12     399792\n",
       "13     389116\n",
       "14     372380\n",
       "net    371580\n",
       "Name: amount, dtype: int64"
      ]
     },
     "metadata": {},
     "output_type": "display_data"
    }
   ],
   "source": [
    "blank=df.amount.cumsum().shift(1).fillna(0)\n",
    "\n",
    "total = df.sum().amount\n",
    "df.loc[\"net\"] = total\n",
    "blank.loc[\"net\"] = total\n",
    "display(blank)"
   ]
  },
  {
   "cell_type": "code",
   "execution_count": 5,
   "id": "47a50335",
   "metadata": {},
   "outputs": [],
   "source": [
    "step = blank.reset_index(drop=True).repeat(3).shift(-1)\n",
    "step[1::3] = np.nan\n",
    "\n",
    "blank.loc[\"net\"] = 0"
   ]
  },
  {
   "cell_type": "markdown",
   "id": "309ad004",
   "metadata": {},
   "source": [
    "## Chart it\n",
    "\n",
    "One thing to note here is to keep in one cell your script for rendering the chart and to saving it to avoid error."
   ]
  },
  {
   "cell_type": "code",
   "execution_count": 6,
   "id": "e31825b6",
   "metadata": {},
   "outputs": [
    {
     "data": {
      "image/png": "[encoded data removed]",
      "text/plain": [
       "<Figure size 1000x600 with 1 Axes>"
      ]
     },
     "metadata": {},
     "output_type": "display_data"
    }
   ],
   "source": [
    "my_plot = df.plot(kind='bar', stacked=True, bottom=blank,legend=None, title=\"SDR\", figsize=(10,6))\n",
    "my_plot.plot(step.index, step.values,'k')\n",
    "my_plot.get_figure().savefig(\"waterfall.svg\",format='svg',dpi=200,bbox_inches='tight') #save your chart"
   ]
  },
  {
   "cell_type": "markdown",
   "id": "af00cf43",
   "metadata": {},
   "source": [
    "## End"
   ]
  },
  {
   "cell_type": "code",
   "execution_count": null,
   "id": "0e28cc18",
   "metadata": {},
   "outputs": [],
   "source": []
  }
 ],
 "metadata": {
  "kernelspec": {
   "display_name": "Python 3 (ipykernel)",
   "language": "python",
   "name": "python3"
  },
  "language_info": {
   "codemirror_mode": {
    "name": "ipython",
    "version": 3
   },
   "file_extension": ".py",
   "mimetype": "text/x-python",
   "name": "python",
   "nbconvert_exporter": "python",
   "pygments_lexer": "ipython3",
   "version": "3.10.8"
  }
 },
 "nbformat": 4,
 "nbformat_minor": 5
}
